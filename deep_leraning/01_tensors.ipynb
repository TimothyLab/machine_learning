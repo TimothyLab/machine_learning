{
 "cells": [
  {
   "cell_type": "markdown",
   "id": "fe84b0da",
   "metadata": {},
   "source": [
    "# Tensors\n",
    "\n",
    "Pour ce tp, veuillez installer ces packages : `pip install git+https://gitlab.in2p3.fr/jbarnier/ateliers_deep_learning.git`\n",
    "\n",
    "Les tensors sont l'une des structure de données en pytorch. Ce sont des tableaux numérique qui peuvent être utilisé par CPU ou GPU."
   ]
  },
  {
   "cell_type": "code",
   "execution_count": 2,
   "id": "230529cf",
   "metadata": {},
   "outputs": [],
   "source": [
    "import torch"
   ]
  },
  {
   "cell_type": "code",
   "execution_count": 3,
   "id": "2e963dbb",
   "metadata": {},
   "outputs": [
    {
     "name": "stdout",
     "output_type": "stream",
     "text": [
      "tensor([ 1., -4.,  9., 16.])\n"
     ]
    }
   ],
   "source": [
    "list_a = [1.0, -4.0,9.0,16.0]\n",
    "tensor_a = torch.tensor(list_a)\n",
    "print(tensor_a)"
   ]
  },
  {
   "cell_type": "markdown",
   "id": "ec5b0962",
   "metadata": {},
   "source": [
    "Les calculs sur les tensors sont vectorisés. Les opérations sont donc effectué sur tout le tensor en une fois. Par exemple, ajouter une valeur à un tensors l'ajoute à chacun des éléments du tensors."
   ]
  },
  {
   "cell_type": "code",
   "execution_count": 4,
   "id": "8ff5e868",
   "metadata": {},
   "outputs": [
    {
     "name": "stdout",
     "output_type": "stream",
     "text": [
      "tensor([ 3., -2., 11., 18.])\n"
     ]
    }
   ],
   "source": [
    "print(tensor_a + 2)"
   ]
  },
  {
   "cell_type": "markdown",
   "id": "df439b0a",
   "metadata": {},
   "source": [
    "Pytorch fournit plusieurs fonctions de calcul. Elles peuvent être appelé sous forme de fonction ou de méthode."
   ]
  },
  {
   "cell_type": "code",
   "execution_count": 5,
   "id": "d3da13f7",
   "metadata": {},
   "outputs": [
    {
     "name": "stdout",
     "output_type": "stream",
     "text": [
      "tensor(5.5000)\n",
      "tensor(5.5000)\n"
     ]
    }
   ],
   "source": [
    "print(tensor_a.mean())\n",
    "print(torch.mean(tensor_a))"
   ]
  },
  {
   "cell_type": "markdown",
   "id": "688e2447",
   "metadata": {},
   "source": [
    "**Exercice 1**\n",
    "\n",
    "Soit la température en Fahrenheit pouvent être convertit en Celsius avec la formule suivant : \n",
    "\n",
    "$$T_{\\textrm{Celsius}} = (T_{\\textrm{Fahrenheit}} - 32) \\times \\frac{5}{9}$$\n",
    "\n",
    "Crée une fonction `fahrenheit_to_celsius` qui convertit un tensor de température en Fahrenheit en Celsius. "
   ]
  },
  {
   "cell_type": "code",
   "execution_count": 6,
   "id": "dcc4837f",
   "metadata": {},
   "outputs": [
    {
     "name": "stdout",
     "output_type": "stream",
     "text": [
      "tensor([-17.7778,   0.0000,  10.0000,  37.7778])\n"
     ]
    }
   ],
   "source": [
    "def fahrenheit_to_celsius(tensor):\n",
    "    return (tensor - 32.0) * 5.0 / 9.0\n",
    "\n",
    "temp_fahrenheit = torch.tensor([0,32,50,100])\n",
    "print(fahrenheit_to_celsius(temp_fahrenheit))"
   ]
  },
  {
   "cell_type": "markdown",
   "id": "0c80c034",
   "metadata": {},
   "source": [
    "# Tensors gradients"
   ]
  },
  {
   "cell_type": "markdown",
   "id": "4f0dbd6e",
   "metadata": {},
   "source": [
    "Quand on crée un tensor, si on spécifie l'arguement `requires_grad =True` alors chaque objet créé en appliquant une opération de torch sur le tensors devriendra également un tensor qui gardera en mémoire les fonctions appliqué. "
   ]
  },
  {
   "cell_type": "code",
   "execution_count": 7,
   "id": "005a3f17",
   "metadata": {},
   "outputs": [
    {
     "name": "stdout",
     "output_type": "stream",
     "text": [
      "tensor(9., grad_fn=<PowBackward0>)\n",
      "tensor(6.)\n"
     ]
    }
   ],
   "source": [
    "w1 = torch.tensor(1.0 , requires_grad=True)\n",
    "w2 = w1 + 2.0\n",
    "w3 = torch.square(w2)\n",
    "print(w3)\n",
    "w3.backward()  # calcule la dérivée de w3 par rapport à w1\n",
    "print(w1.grad)  # montre que w1 a une fonction de gradient associée"
   ]
  },
  {
   "cell_type": "markdown",
   "id": "f6b3f274",
   "metadata": {},
   "source": [
    "Un gradient sert à mesurer comment une quantité (souvent la perte) change quand on modifie les paramètres. Le gradient déterminé par la méthode `.backward()` utilise la règle de la chaîne pour calculer la dérivé. \n",
    "\n",
    "Principe : si y = f(g(x)), alors la dérivée dy/dx se calcule en multipliant la dérivée de f par rapport à g par la dérivée de g par rapport à x : dy/dx = f'(g(x)) * g'(x).\n",
    "\n",
    "\n",
    "Ici on a : \n",
    "    $$w1 = 1$$\n",
    "    $$w2 = w1 + 2 = 3$$\n",
    "    $$w3 = w2**2 = 9$$\n",
    "\n",
    "On a alors:\n",
    "    $$dw3/dw1 = f'(g(w1)) * g'(w1)$$\n",
    "            $$= f'(w2**2) * g'(w1)$$\n",
    "            $$= 2 * w2 * 1$$\n",
    "            $$= 2 * 3$$\n",
    "            $$= 6$$\n",
    "\n",
    "On obtient ici la pente instantannée en w1 = 1 de la dérivé. Cependant la dérivé donne une approximation linéaire locale.\n",
    "Pour un petit pas Δw1, la variation de w3 est approximée par Δw3 ≈ (∂w3/∂w1) · Δw1. Cette approximation est bonne si Δw1 est petit.\n",
    "\n",
    "Ce gradient va nous servir pour la descente de gradient appliqué à la fonction de perte (erreur du modèle) ce qui nous permettra de rendre les prédiction plus proches des vraies valeurs. (Attention on parle ici de la pente local et non global de la fonction donc pour des fonctions convexes  c'est l'idéal mais pour les fonctions non convexes on peut converger vers un minimum local qui n'est pas forcément le meilleur global)."
   ]
  },
  {
   "cell_type": "markdown",
   "id": "2946028a",
   "metadata": {},
   "source": [
    "**Exercice 2**\n",
    "\n",
    "En utilisant les tensors :\n",
    "\n",
    "-   calculer le gradient de la fonction $1 /\\log{x}$ quand $x$ = 10. (Sauriez-vous déterminer la tendance de la fonction pour x =10 ? )\n",
    "-   calculer le gradient de la fonction `farhenheit _to_celsius` quand $t$ = 0\n",
    "\n"
   ]
  },
  {
   "cell_type": "code",
   "execution_count": 8,
   "id": "6086333d",
   "metadata": {},
   "outputs": [
    {
     "name": "stdout",
     "output_type": "stream",
     "text": [
      "tensor(-0.0189)\n",
      "tensor(0.5556)\n"
     ]
    }
   ],
   "source": [
    "# premier point d'exemple\n",
    "a = torch.tensor(10.0, requires_grad=True)\n",
    "a_1 = 1 / torch.log(a) \n",
    "\n",
    "a_1.backward()\n",
    "print(a.grad)\n",
    "\n",
    "# second point d'exemple\n",
    "b = torch.tensor(0.0, requires_grad=True)\n",
    "b_1 = fahrenheit_to_celsius(b)\n",
    "b_1.backward()\n",
    "print(b.grad)\n",
    "\n",
    "\n"
   ]
  },
  {
   "cell_type": "markdown",
   "id": "06308bd9",
   "metadata": {},
   "source": [
    "Quand le gradient est calculé sur une fonction avec un seul argument, la valeur correspond à la dérivé de la fonction pour un paramètre donnée.\n",
    "\n",
    "Lorsque la fonction prend plusieurs argument en entrée, chaque valeur du gradient est la dérivée partiel de la fonction pour les paramètres données.\n",
    "\n",
    "Pour illustrer cela, dans l’exemple suivant :\n",
    "\n",
    "-   x1.grad est la dérivée partielle de x1/x2 par rapport à x1 lorsque x1 = 3 et x2 = 5.\n",
    "-   x2.grad est la dérivée partielle de x1/x2 par rapport à x2 lorsque x1 = 3 et x2 = 5.\n",
    "-   (x1.grad, x2.grad) est le gradient de x1/x2 au point (x1=3, x2=5).\n"
   ]
  },
  {
   "cell_type": "code",
   "execution_count": 9,
   "id": "353da22e",
   "metadata": {},
   "outputs": [
    {
     "name": "stdout",
     "output_type": "stream",
     "text": [
      "tensor(0.2000) tensor(-0.1200)\n"
     ]
    }
   ],
   "source": [
    "x1 = torch.tensor(3.0, requires_grad=True)\n",
    "x2 = torch.tensor(5.0, requires_grad=True)\n",
    "res = x1 / x2\n",
    "res.backward()\n",
    "print(x1.grad, x2.grad)"
   ]
  },
  {
   "cell_type": "markdown",
   "id": "98b8fadf",
   "metadata": {},
   "source": [
    "**Exercise 3**\n",
    "\n",
    "-   Créer une fonction `test_fn` qui prend deux argument `x1` et `x2` et calcul $\\sqrt{x_1} / e^{x_2}$.\n",
    "-   Calculer le gradient de `test_fn` quand $x_1 = 1$ et $x_2 = 2$"
   ]
  },
  {
   "cell_type": "code",
   "execution_count": 10,
   "id": "3dc52a8d",
   "metadata": {},
   "outputs": [
    {
     "name": "stdout",
     "output_type": "stream",
     "text": [
      "tensor(0.1353, grad_fn=<DivBackward0>)\n",
      "tensor(0.0677) tensor(-0.1353)\n"
     ]
    }
   ],
   "source": [
    "a = torch.tensor(1.0, requires_grad=True)\n",
    "b = torch.tensor(2.0, requires_grad=True)\n",
    "\n",
    "def test_fn(a,b):\n",
    "    return torch.sqrt(a) / torch.exp(b)\n",
    "\n",
    "res = test_fn(a,b)\n",
    "print(res)\n",
    "\n",
    "res.backward()\n",
    "\n",
    "print(a.grad,b.grad)\n",
    "\n"
   ]
  },
  {
   "cell_type": "markdown",
   "id": "e9b1fe5c",
   "metadata": {},
   "source": [
    "# Descente de gradient\n",
    "\n",
    "Pour la suite, imaginons que nous avons un tensor `x` avec 6 valeurs numérique."
   ]
  },
  {
   "cell_type": "code",
   "execution_count": 11,
   "id": "8360b3a0",
   "metadata": {},
   "outputs": [],
   "source": [
    "x = torch.tensor([1.0,2.0,3.0,20.0,-15.0,-5.0])\n"
   ]
  },
  {
   "cell_type": "markdown",
   "id": "ab6a9ee6",
   "metadata": {},
   "source": [
    "Nous allons utiliser une fonction prédéfinit pour afficher les valeurs sur un axe."
   ]
  },
  {
   "cell_type": "code",
   "execution_count": 12,
   "id": "404b2290",
   "metadata": {},
   "outputs": [
    {
     "data": {
      "image/png": "[encoded data removed]"
     },
     "metadata": {
      "image/png": {
       "height": 80,
       "width": 1000
      }
     },
     "output_type": "display_data"
    }
   ],
   "source": [
    "from adl.tensors import plot_points1d\n",
    "\n",
    "plot_points1d(x)"
   ]
  },
  {
   "cell_type": "markdown",
   "id": "ec02b9ea",
   "metadata": {},
   "source": [
    "Supposons que nous voulons trouver la valeur du paramètre `w` pour que la somme des distances au carré entre les valeurs de \n",
    "`x` et `w` soit minimal. \n",
    "\n",
    "Par exemple, on peut commencer par une valeur `w` de 0."
   ]
  },
  {
   "cell_type": "code",
   "execution_count": 13,
   "id": "94fe20d3",
   "metadata": {},
   "outputs": [
    {
     "data": {
      "image/png": "[encoded data removed]"
     },
     "metadata": {
      "image/png": {
       "height": 80,
       "width": 1000
      }
     },
     "output_type": "display_data"
    }
   ],
   "source": [
    "plot_points1d(x,0)"
   ]
  },
  {
   "cell_type": "markdown",
   "id": "eacbb503",
   "metadata": {},
   "source": [
    "Pour évaluer si la distance pour `w` = 0 est minimal, on peut calculer le gradient de la fonction qui calcule la sommes des distances au carré entre les valeurs de `x` et `w` = 0."
   ]
  },
  {
   "cell_type": "code",
   "execution_count": 14,
   "id": "4553af41",
   "metadata": {},
   "outputs": [
    {
     "name": "stdout",
     "output_type": "stream",
     "text": [
      "tensor(0., requires_grad=True)\n",
      "tensor(-12.)\n"
     ]
    }
   ],
   "source": [
    "w = torch.tensor(0.0, requires_grad=True)\n",
    "\n",
    "y = (x-w).square().sum()\n",
    "\n",
    "print(w)\n",
    "\n",
    "y.backward()\n",
    "\n",
    "print(w.grad)"
   ]
  },
  {
   "cell_type": "markdown",
   "id": "924d976f",
   "metadata": {},
   "source": [
    "**Point math**\n",
    "\n",
    "\n",
    "On calcule la dérivée partielle en appliquant les règles de dérivation (règle de la somme, règle de la chaîne) en prenant la variable d'intérêt comme variable et en traitant les autres comme constantes. Ici nous avons 2 fonctions (le carré et la différence)\n",
    "\n",
    "Pour bien comprendre, on va tout d'abors calculer la dérivé d'un terme i ( en suivant la règle de la chaîne et de la somme): \n",
    "- Poser u(w) = x_i − w (fonction interne).\n",
    "- f_i(u) = u^2 (fonction externe).\n",
    "- Appliquer la règle de la chaîne : df_i/dw = (df_i/du) · (du/dw).\n",
    "- df_i/du = 2u = 2(x_i − w)\n",
    "- du/dw = d(x_i − w)/dw = −1\n",
    "- → df_i/dw = 2(x_i − w)·(−1) = 2(w − x_i).\n",
    "\n",
    "Pour la somme y(w) = Σ_i f_i(w) on somme les dérivées :\n",
    "- dy/dw = Σ_i 2(w − x_i) = 2·Σ_i(w) − 2·Σ_i(x_i) = 2·n·w − 2·Σ_i x_i,\n",
    "- avec n = nombre d'éléments (Σ_i 1 = n).\n",
    "\n",
    "On a alors : Σ_i x_i = 6 → dy/dw = 2·n·0 − 2·6 = −12 , avec x = [1,2,3,20,−15,−5] et w=0\n",
    "\n",
    "(Attention ici on a bien un la même valeur pour n et Σ_i x_i, n représente le nombre de valeur dans le tensor X qui est de 6 et Σ_i x_i représente la somme des valeurs du tensor X.)"
   ]
  },
  {
   "cell_type": "markdown",
   "id": "2e4b6a9c",
   "metadata": {},
   "source": [
    "Etant donné que nous allons utiliser cette méthode plusieurs fois, nous allons créer une nouvelle fonction `eval_w_squared`"
   ]
  },
  {
   "cell_type": "code",
   "execution_count": 17,
   "id": "5c55faf6",
   "metadata": {},
   "outputs": [
    {
     "name": "stdout",
     "output_type": "stream",
     "text": [
      "Sum of squares :664.0\n",
      "Gradient : -12.0\n"
     ]
    }
   ],
   "source": [
    "def eval_w_squared(w_value):\n",
    "    x = torch.tensor([1.0,2.0,3.0,20.0,-15.0,-5.0])\n",
    "    w = torch.tensor(w_value, requires_grad=True)\n",
    "    y = (x-w).square().sum()\n",
    "    y.backward()\n",
    "    print(f\"Sum of squares :{y}\")\n",
    "    print(f\"Gradient : {w.grad}\")\n",
    "\n",
    "eval_w_squared(0.0)"
   ]
  },
  {
   "cell_type": "code",
   "execution_count": 60,
   "id": "b4659ced",
   "metadata": {},
   "outputs": [
    {
     "data": {
      "image/png": "[encoded data removed]",
      "text/plain": [
       "<Figure size 600x400 with 1 Axes>"
      ]
     },
     "metadata": {},
     "output_type": "display_data"
    }
   ],
   "source": [
    "# python\n",
    "import torch\n",
    "import numpy as np\n",
    "import matplotlib.pyplot as plt\n",
    "\n",
    "x = torch.tensor([1.0,2.0,3.0,20.0,-15.0,-5.0])\n",
    "xs = x.numpy()\n",
    "n = x.numel()\n",
    "s = xs.sum()\n",
    "s2 = (xs**2).sum()\n",
    "\n",
    "ws = np.linspace(xs.min()-5, xs.max()+5, 400)\n",
    "# utilisation de la forme développée (plus stable et rapide)\n",
    "ys = n * ws**2 - 2 * s * ws + s2\n",
    "\n",
    "w_star = xs.mean()\n",
    "y_star = n * w_star**2 - 2 * s * w_star + s2\n",
    "\n",
    "plt.figure(figsize=(6,4))\n",
    "plt.plot(ws, ys, label='y(w) = Σ (x_i - w)^2')\n",
    "plt.axvline(w_star, color='r', linestyle='--', label=f'mean = {w_star:.2f}')\n",
    "plt.scatter([w_star], [y_star], color='r')\n",
    "plt.xlabel('w'); plt.ylabel('y(w)')\n",
    "plt.legend(); plt.grid(True)\n",
    "plt.show()"
   ]
  },
  {
   "cell_type": "markdown",
   "id": "fae0706e",
   "metadata": {},
   "source": [
    "Donc la sommes des distances au carré est de 664 et son gradient de -12 quand `w` = 0.\n",
    "\n",
    "Avec ces informations, on peut dire que `w` = 0 n'est pas la valeur optimal car le gradient n'est pas égale à zéro. ( Il faut avoir en tête le fait que nous voulons que notre fonction perte (erreur) donne le résultat le plus petit possible, ici en regardant la courbe on voit bien que zéro n'est pas la valeur optimal.)\n",
    "\n",
    "Et que le gradient nous donne la \"direction\" que nous devons prendre pour ajuster la valeur de notre paramètre.\n",
    "\n",
    "Quand `w` = 0, le gradient est négatif, ce qui signifie que si l'on prend un valeur plus petite de `w` la somme de la distance au carré augmentera et inversement.\n",
    "\n",
    "On veut ici somme de la distance au carré minimale.\n"
   ]
  },
  {
   "cell_type": "code",
   "execution_count": 25,
   "id": "2a3c818e",
   "metadata": {},
   "outputs": [
    {
     "name": "stdout",
     "output_type": "stream",
     "text": [
      "Sum of squares :659.5\n",
      "Gradient : -6.0\n",
      "Sum of squares :658.0\n",
      "Gradient : 0.0\n"
     ]
    },
    {
     "data": {
      "text/plain": [
       "tensor(1.)"
      ]
     },
     "execution_count": 25,
     "metadata": {},
     "output_type": "execute_result"
    }
   ],
   "source": [
    "eval_w_squared(0.5)\n",
    "eval_w_squared(1.0)\n",
    "x.mean()"
   ]
  },
  {
   "cell_type": "markdown",
   "id": "4a309268",
   "metadata": {},
   "source": [
    "Maintenant notre gradient est égale à zéro, ce qui signifie que nous sommes à l'optimum local.\n",
    "En faite, 1 est la moyenne de `x` qui est par définition la valeur qui minimise la somme de la distance au carré. "
   ]
  },
  {
   "cell_type": "markdown",
   "id": "3ca55cbb",
   "metadata": {},
   "source": [
    "**Exercice 4**\n",
    "\n",
    "Créez une fonction `eval_w_abs` qui va calculer les sommes des valeurs absolues da la différence entre `x` et `w`.\n",
    "\n",
    "Utilisez cette pour faire une descente de gradient et trouver la valeur de `w` qui minimise cette somme.\n",
    "\n",
    "Quelle est la fonction statistique qu'on aurait pu utiliser pour trouver cette valeur directement ? "
   ]
  },
  {
   "cell_type": "code",
   "execution_count": 32,
   "id": "1080f9c6",
   "metadata": {},
   "outputs": [
    {
     "name": "stdout",
     "output_type": "stream",
     "text": [
      "Sum of absolute differences :44.0\n",
      "Gradient : 0.0\n"
     ]
    }
   ],
   "source": [
    "def eval_w_abs(w_value):\n",
    "    x = torch.tensor([1.0,2.0,3.0,20.0,-15.0,-5.0])\n",
    "    w = torch.tensor(w_value, requires_grad=True)\n",
    "    y = (x-w).abs().sum()\n",
    "    y.backward()\n",
    "    print(f\"Sum of absolute differences :{y}\")\n",
    "    print(f\"Gradient : {w.grad}\")\n",
    "\n",
    "eval_w_abs(1.5)"
   ]
  },
  {
   "cell_type": "markdown",
   "id": "b4fdae65",
   "metadata": {},
   "source": [
    "# Minimiser la fonction de perte\n",
    "\n",
    "En depp learning, une des tâches principales est de minimiser une fonction de perte (loss function) afin d'améliorer les performances d'un modèle en ajutant les paramètre du modèle.\n",
    "\n",
    "Par exemple, les deux listes suivant donne la température moyenne par mois à Lyon-Bron en 1924 et 2024 (source\n",
    "[infoclimat](https://www.infoclimat.fr/stations-meteo/analyses-mensuelles.php?mois=12&annee=2024)).\n"
   ]
  },
  {
   "cell_type": "code",
   "execution_count": 34,
   "id": "5abf8e64",
   "metadata": {},
   "outputs": [],
   "source": [
    "lyon1924 = [3.1, 1.3, 7.7, 11.0, 15.7, 18.0, 20.6, 16.7, 16.2, 11.9, 7.3, 3.4]\n",
    "lyon2024 = [5.3, 8.9, 10.9, 12.5, 15.9, 20.5, 23.3, 24.3, 17.4, 15.8, 8.7, 3.8]"
   ]
  },
  {
   "cell_type": "markdown",
   "id": "8e942887",
   "metadata": {},
   "source": [
    "Notre objectif ici est de prédire les températures de 2024 à partir des températures de 1924. Pour cette prédiction nous allons utiliser un modèle simple, on va ajouter une valeur fixe à toutes les températures de 1924 pour être le plus proche possible de celles de 2024.\n",
    "\n",
    "Pour une notation plus formel, \n",
    "\n",
    "-   `x` est note variable d'entrée (les températures de 1924)\n",
    "-   `y` est la valeur réel ou la valeur cible que nous voulons prédire (les températures de 2024)\n",
    "-   Notre modèle est `y = x + w` , ou `w` est notre seul paramètre du modèle.\n",
    "-   On veut `w` tel que sa valeur minimise la distance entre les prédictions et les vraies valeurs.\n",
    "\n",
    "On comme par `w = 0`"
   ]
  },
  {
   "cell_type": "code",
   "execution_count": 35,
   "id": "c2318f4f",
   "metadata": {},
   "outputs": [],
   "source": [
    "x = torch.tensor(lyon1924)\n",
    "y = torch.tensor(lyon2024)  \n",
    "w = torch.tensor(0.0, requires_grad=True)"
   ]
  },
  {
   "cell_type": "markdown",
   "id": "180b4535",
   "metadata": {},
   "source": [
    "On peut maintenant calculer notre prédiction en appliquant notre modèle."
   ]
  },
  {
   "cell_type": "code",
   "execution_count": 55,
   "id": "d902cbb7",
   "metadata": {},
   "outputs": [
    {
     "name": "stdout",
     "output_type": "stream",
     "text": [
      "tensor([ 3.1000,  1.3000,  7.7000, 11.0000, 15.7000, 18.0000, 20.6000, 16.7000,\n",
      "        16.2000, 11.9000,  7.3000,  3.4000], grad_fn=<AddBackward0>)\n"
     ]
    }
   ],
   "source": [
    "y_pred = x + w\n",
    "print(y_pred)"
   ]
  },
  {
   "cell_type": "markdown",
   "id": "4fac0609",
   "metadata": {},
   "source": [
    "On aimerait que ces prédictions soit aussi proche possible que les valeurs cible (température de 2024), donc on va calculer la distance entre `y_pred` et `y` en prenant la moyenne de la distance au carré entre les éléments.\n",
    "\n",
    "On va appeler cette distance, la fonction de perte, celle que l'on veut minimiser.\n",
    "\n",
    "On va calculer la fonction de perte (loss) pour `w = 0`"
   ]
  },
  {
   "cell_type": "code",
   "execution_count": 38,
   "id": "f3aec2c4",
   "metadata": {},
   "outputs": [
    {
     "name": "stdout",
     "output_type": "stream",
     "text": [
      "loss: 13.766663551330566\n"
     ]
    }
   ],
   "source": [
    "loss = torch.mean(torch.square(y_pred - y))\n",
    "print(f\"loss: {loss}\")"
   ]
  },
  {
   "cell_type": "markdown",
   "id": "8dd03c29",
   "metadata": {},
   "source": [
    "On va appliquer la méthode `backward` comme précédemment pour déterminer le gradient pour `w = 0`. Pour rappel, on aimerait trouver le minimum local de notre fonction perte donc on cherche la valeur de `w` pour laquel on a un gradient de 0. "
   ]
  },
  {
   "cell_type": "code",
   "execution_count": 39,
   "id": "93312f6e",
   "metadata": {},
   "outputs": [
    {
     "name": "stdout",
     "output_type": "stream",
     "text": [
      "gradient for w at w=0: -5.733332633972168\n"
     ]
    }
   ],
   "source": [
    "loss.backward()\n",
    "print(f\"gradient for w at w=0: {w.grad}\")"
   ]
  },
  {
   "cell_type": "markdown",
   "id": "99ce7cb9",
   "metadata": {},
   "source": [
    "Comme nous allons répéter ces actions, on va faire une fonction qui regroupe les étapes (calculer les prédiction, calculer la fonction de perte et calculer le gradient)."
   ]
  },
  {
   "cell_type": "code",
   "execution_count": 52,
   "id": "88a4ae28",
   "metadata": {},
   "outputs": [
    {
     "name": "stdout",
     "output_type": "stream",
     "text": [
      "w: 0.0, loss: 13.766663551330566, gradient: -5.733332633972168\n"
     ]
    }
   ],
   "source": [
    "def eval_weight(x,y,w_value):\n",
    "    w = torch.tensor(w_value, requires_grad=True)\n",
    "    y_pred = x + w\n",
    "    loss = torch.mean(torch.square(y_pred - y))\n",
    "    loss.backward()\n",
    "    print(f\"w: {w_value}, loss: {loss.item()}, gradient: {w.grad.item()}\")\n",
    "\n",
    "eval_weight(x,y,0.0)"
   ]
  },
  {
   "cell_type": "markdown",
   "id": "1e57c5b3",
   "metadata": {},
   "source": [
    "Comme nous l'avons vu précédemment, le gradient nous donne la direction dans laquelle cherche pour que la fonction de perte soit à son minimum local. Dans ce cas le gradient est négatif donc cela signifie qu'il faut augmenter la valeur de `w` pour avoir un gradient de 0 et donc être au minimum local de la fonction de perte."
   ]
  },
  {
   "cell_type": "code",
   "execution_count": 41,
   "id": "28cde78e",
   "metadata": {},
   "outputs": [
    {
     "name": "stdout",
     "output_type": "stream",
     "text": [
      "w: 5.0, loss: 10.100001335144043, gradient: 4.26666784286499\n"
     ]
    }
   ],
   "source": [
    "eval_weight(x,y,5.0)"
   ]
  },
  {
   "cell_type": "markdown",
   "id": "0f686fb9",
   "metadata": {},
   "source": [
    "Ici nous somme au-dessus de 0 pour la gradient donc `w = 5` est trop grand."
   ]
  },
  {
   "cell_type": "code",
   "execution_count": 50,
   "id": "cfe45ee7",
   "metadata": {},
   "outputs": [
    {
     "name": "stdout",
     "output_type": "stream",
     "text": [
      "w: 2.86666666667, loss: 5.548887252807617, gradient: 5.960464477539062e-07\n"
     ]
    },
    {
     "data": {
      "text/plain": [
       "tensor(2.8667)"
      ]
     },
     "execution_count": 50,
     "metadata": {},
     "output_type": "execute_result"
    }
   ],
   "source": [
    "eval_weight(x,y,2.86666666667)\n",
    "torch.mean(y - x)"
   ]
  },
  {
   "cell_type": "markdown",
   "id": "386aef30",
   "metadata": {},
   "source": [
    "# Processus de descente de gradient automatique\n",
    "\n",
    "Jusqu'à maintenant on faisait la descente de gradient à la main, en sélectionnant la valeur de `w` à la main en fonction du signe du gradient.\n",
    "On va maintenant voir comment automatiser le processus.\n",
    "\n",
    "Par convention, la phase de prédiction est définit dans une fonction appelé `forward` qui prend nos données d'entrée ( le tensor `x`) et applique les différentes opérations (notre modèle) pour déterminer les prédictions.\n",
    "\n",
    "Nous allons reprendre notre exemple sur les températures. On definit nos données d'entrée `x`, nos vrais valeurs `y`, et le paramètre de notre modèle `w` et une méthode forward qui va calculer les prédictions en appliquant notre modèle, ici `x+w`."
   ]
  },
  {
   "cell_type": "code",
   "execution_count": 75,
   "id": "060caa6a",
   "metadata": {},
   "outputs": [],
   "source": [
    "lyon1924 = [3.1, 1.3, 7.7, 11.0, 15.7, 18.0, 20.6, 16.7, 16.2, 11.9, 7.3, 3.4]\n",
    "lyon2024 = [5.3, 8.9, 10.9, 12.5, 15.9, 20.5, 23.3, 24.3, 17.4, 15.8, 8.7, 3.8]\n",
    "\n",
    "x = torch.tensor(lyon1924)\n",
    "y = torch.tensor(lyon2024)\n",
    "\n",
    "w = torch.tensor(0.0, requires_grad=True)\n",
    "\n",
    "\n",
    "def forward(x):\n",
    "    return x + w"
   ]
  },
  {
   "cell_type": "markdown",
   "id": "2f20ab99",
   "metadata": {},
   "source": [
    "Maintenant nous allons définir notre fonction de perte (mesure de la distance) entre nos valeur prédite et les vraies valeurs. Cette fonction de perte peut être définit manuellement mais on peut également utiliser des fonction de perte prédifini dans Pytorch. Par exemple, notre fonction de perte peut utiliser `torch.nn.MSELoss` qui calcul la moyenne de l'erreur au carré."
   ]
  },
  {
   "cell_type": "code",
   "execution_count": 76,
   "id": "93c2e8c7",
   "metadata": {},
   "outputs": [],
   "source": [
    "loss_fn = torch.nn.MSELoss()"
   ]
  },
  {
   "cell_type": "markdown",
   "id": "3defc31b",
   "metadata": {},
   "source": [
    "Comme précédemment, les bases de l'entraînement est d'appliquer la fonction `forward à x` pour calculer les prédictions avec le paramètre de notre modèle `w`. Ensuite on calcul la fonction de perte `loss` (distance entre les valeurs prédite et les vraies valeurs) et enfin d'appeler `backward` pour calculer le gradient de la fonction de perte en `w`."
   ]
  },
  {
   "cell_type": "code",
   "execution_count": 74,
   "id": "faa35a69",
   "metadata": {},
   "outputs": [
    {
     "name": "stdout",
     "output_type": "stream",
     "text": [
      "loss: 13.766663551330566, gradient: -5.733332633972168\n"
     ]
    }
   ],
   "source": [
    "y_pred = forward(x)\n",
    "\n",
    "loss = loss_fn(y_pred, y)\n",
    "\n",
    "loss.backward()\n",
    "\n",
    "print(f\"loss: {loss.item()}, gradient: {w.grad.item()}\")"
   ]
  },
  {
   "cell_type": "markdown",
   "id": "cc5b889c",
   "metadata": {},
   "source": [
    "Pour compléter cette étape et avoir un vrai entraînement du modèle, on doit ajuster `w` (jusqu'ici nous le faisions manuellement), on doit ajuster `w` dans la direction opposé de son gradient (imaginons un repère sur lequelle nous avons une courbe comme ci-dessous, imaginons un gradient de -12, cela signifie qu'il faut tracer une droite avec une pente de -12, cela signifie que l'on se trouve a gauche de la ligne rouge on doit alors augmenter `w` pour atteindre le minimum de notre fonction de perte (bleu), on trouve le raisonnement inverse dans le cas ou notre gradient est positif). "
   ]
  },
  {
   "attachments": {
    "image.png": {
     "image/png": "[encoded data removed]"
    }
   },
   "cell_type": "markdown",
   "id": "bb1ee4b5",
   "metadata": {},
   "source": [
    "![image.png](attachment:image.png)"
   ]
  },
  {
   "cell_type": "markdown",
   "id": "1ab59723",
   "metadata": {},
   "source": [
    "La méthode la plus simple est de soustraire à `w` la valeur du gradient multiplié par un facteur que l'on appelle, le `taux d'apprentissage`. En effet, si le gradient `w.grad` est négatif on va ajouter la nouvelle valeur et donc se déplacer dans le sens opposé au gradient et inversement."
   ]
  },
  {
   "cell_type": "code",
   "execution_count": 66,
   "id": "0d794a39",
   "metadata": {},
   "outputs": [
    {
     "name": "stdout",
     "output_type": "stream",
     "text": [
      "tensor(0., requires_grad=True)\n",
      "Updated w: 0.5733332633972168\n"
     ]
    }
   ],
   "source": [
    "print(w)\n",
    "learning_rate = 0.1\n",
    "w.data = w.data - learning_rate * w.grad\n",
    "print(f\"Updated w: {w.item()}\")"
   ]
  },
  {
   "cell_type": "markdown",
   "id": "a1144595",
   "metadata": {},
   "source": [
    "Pour lancer l'entraînement il faut donc répéter cette étape, c'est pourquoi nous allons faire une boucle avec un certains nombre d'itérations `epochs`.\n",
    "\n",
    "Il faut également prendre en compte que à la fin de chaque étape d'entraînement nous devons ré-initialiser le gradient `w` en appellant `w.grad.zero_`"
   ]
  },
  {
   "cell_type": "code",
   "execution_count": 77,
   "id": "06370981",
   "metadata": {},
   "outputs": [
    {
     "name": "stdout",
     "output_type": "stream",
     "text": [
      "Epoch 1: loss=13.766663551330566, gradient: -5.733332633972168, w=0.5733332633972168\n",
      "Epoch 2: loss=10.808262825012207, gradient: -4.586666107177734, w=1.0319998264312744\n",
      "Epoch 3: loss=8.91489028930664, gradient: -3.6693332195281982, w=1.3989331722259521\n",
      "Epoch 4: loss=7.703128337860107, gradient: -2.9354662895202637, w=1.6924798488616943\n",
      "Epoch 5: loss=6.927601337432861, gradient: -2.3483729362487793, w=1.9273171424865723\n",
      "Epoch 6: loss=6.431265354156494, gradient: -1.8786985874176025, w=2.115186929702759\n",
      "Epoch 7: loss=6.113610744476318, gradient: -1.5029590129852295, w=2.2654829025268555\n",
      "Epoch 8: loss=5.910308837890625, gradient: -1.2023664712905884, w=2.3857195377349854\n",
      "Epoch 9: loss=5.780198574066162, gradient: -0.9618936777114868, w=2.4819087982177734\n",
      "Epoch 10: loss=5.696925640106201, gradient: -0.7695151567459106, w=2.5588603019714355\n",
      "Epoch 11: loss=5.643632411956787, gradient: -0.6156118512153625, w=2.6204214096069336\n",
      "Epoch 12: loss=5.609523773193359, gradient: -0.49248945713043213, w=2.669670343399048\n",
      "Epoch 13: loss=5.587696075439453, gradient: -0.393992155790329, w=2.7090694904327393\n",
      "Epoch 14: loss=5.573724746704102, gradient: -0.3151932954788208, w=2.740588903427124\n",
      "Epoch 15: loss=5.564783096313477, gradient: -0.25215476751327515, w=2.7658042907714844\n",
      "Epoch 16: loss=5.559061050415039, gradient: -0.2017238736152649, w=2.7859766483306885\n",
      "Epoch 17: loss=5.555399417877197, gradient: -0.16137945652008057, w=2.802114486694336\n",
      "Epoch 18: loss=5.5530548095703125, gradient: -0.12910383939743042, w=2.8150248527526855\n",
      "Epoch 19: loss=5.551553726196289, gradient: -0.10328274965286255, w=2.8253531455993652\n",
      "Epoch 20: loss=5.550594329833984, gradient: -0.08262616395950317, w=2.833615779876709\n"
     ]
    }
   ],
   "source": [
    "epochs = 20\n",
    "\n",
    "for epoch in range(epochs):\n",
    "    y_pred = forward(x)\n",
    "    loss = loss_fn(y_pred,y)\n",
    "    loss.backward()\n",
    "    w.data = w.data - learning_rate * w.grad\n",
    "    print(f\"Epoch {epoch+1}: loss={loss.item()}, gradient: {w.grad}, w={w.item()}\")\n",
    "\n",
    "    w.grad.zero_()"
   ]
  },
  {
   "cell_type": "markdown",
   "id": "8f294185",
   "metadata": {},
   "source": [
    "**Exercice 5**\n",
    "\n",
    "Nous avons deux listes Python qui donnent les diamètres mesurés et les périmètres d’un certain nombre de cercles.\n",
    "\n",
    "Utilisez PyTorch pour lancer un processus d’entraînement afin de trouver la meilleure valeur du paramètre w qui permet de prédire les périmètres à partir des diamètres. Le modèle pour calculer les valeurs prédites est y = x × w.\n",
    "\n",
    "Indice : vous pouvez utiliser un pas (taux d’apprentissage) de 0,01."
   ]
  },
  {
   "cell_type": "code",
   "execution_count": 85,
   "id": "dfe0a4e7",
   "metadata": {},
   "outputs": [],
   "source": [
    "diameters = [1.4, 2.5, 2.0, 4.8, 4.7, 5.2, 1.3, 2.1, 8.3, 7.4]\n",
    "perimeters = [4.4, 7.9, 6.3, 15.1, 14.8, 16.3, 4.1, 6.6, 26.1, 23.2]"
   ]
  },
  {
   "cell_type": "code",
   "execution_count": null,
   "id": "30c9e0a8",
   "metadata": {},
   "outputs": [
    {
     "name": "stdout",
     "output_type": "stream",
     "text": [
      "Epoch 1: loss=211.4020233154297, gradient: -134.56199645996094, w=1.3456199169158936\n",
      "Epoch 2: loss=69.10506439208984, gradient: -76.93448638916016, w=2.114964723587036\n",
      "Epoch 3: loss=22.590091705322266, gradient: -43.98652267456055, w=2.5548300743103027\n",
      "Epoch 4: loss=7.384963035583496, gradient: -25.14885139465332, w=2.806318521499634\n",
      "Epoch 5: loss=2.414613962173462, gradient: -14.3786039352417, w=2.9501044750213623\n",
      "Epoch 6: loss=0.789872944355011, gradient: -8.220823287963867, w=3.0323126316070557\n",
      "Epoch 7: loss=0.25876736640930176, gradient: -4.700179100036621, w=3.0793144702911377\n",
      "Epoch 8: loss=0.08515530079603195, gradient: -2.6872775554656982, w=3.106187343597412\n",
      "Epoch 9: loss=0.028403952717781067, gradient: -1.536422848701477, w=3.121551513671875\n",
      "Epoch 10: loss=0.00985276885330677, gradient: -0.8784356117248535, w=3.130335807800293\n",
      "Epoch 11: loss=0.003788607893511653, gradient: -0.5022363066673279, w=3.1353580951690674\n",
      "Epoch 12: loss=0.0018063448369503021, gradient: -0.2871527671813965, w=3.1382296085357666\n",
      "Epoch 13: loss=0.0011583565501496196, gradient: -0.16418097913265228, w=3.13987135887146\n",
      "Epoch 14: loss=0.000946523156017065, gradient: -0.09387201815843582, w=3.140810012817383\n",
      "Epoch 15: loss=0.0008772785076871514, gradient: -0.05367176979780197, w=3.1413466930389404\n",
      "Epoch 16: loss=0.000854651618283242, gradient: -0.030687827616930008, w=3.141653537750244\n",
      "Epoch 17: loss=0.0008472313056699932, gradient: -0.017546946182847023, w=3.141829013824463\n",
      "Epoch 18: loss=0.0008448278531432152, gradient: -0.01003207080066204, w=3.1419293880462646\n",
      "Epoch 19: loss=0.0008440327947027981, gradient: -0.00573220569640398, w=3.141986608505249\n",
      "Epoch 20: loss=0.0008437749929726124, gradient: -0.0032816792372614145, w=3.142019510269165\n",
      "Epoch 21: loss=0.0008436845382675529, gradient: -0.0018743225373327732, w=3.142038345336914\n",
      "Epoch 22: loss=0.0008436511270701885, gradient: -0.0010689471382647753, w=3.1420490741729736\n",
      "Epoch 23: loss=0.0008436633506789804, gradient: -0.0006068016518838704, w=3.142055034637451\n",
      "Epoch 24: loss=0.0008436471107415855, gradient: -0.00035146978916600347, w=3.1420586109161377\n",
      "Epoch 25: loss=0.000843663583509624, gradient: -0.00019996630726382136, w=3.1420605182647705\n",
      "Epoch 26: loss=0.0008436421048827469, gradient: -0.00011674111010506749, w=3.142061710357666\n",
      "Epoch 27: loss=0.0008436479838564992, gradient: -6.581062916666269e-05, w=3.1420624256134033\n",
      "Epoch 28: loss=0.0008436545031145215, gradient: -3.4690776374191046e-05, w=3.1420626640319824\n",
      "Epoch 29: loss=0.0008436593925580382, gradient: -2.3775675799697638e-05, w=3.1420629024505615\n",
      "Epoch 30: loss=0.0008436491480097175, gradient: -1.4314369764178991e-05, w=3.1420631408691406\n",
      "Epoch 31: loss=0.0008436585776507854, gradient: -3.779190592467785e-06, w=3.1420631408691406\n",
      "Epoch 32: loss=0.0008436585776507854, gradient: -3.779190592467785e-06, w=3.1420631408691406\n",
      "Epoch 33: loss=0.0008436585776507854, gradient: -3.779190592467785e-06, w=3.1420631408691406\n",
      "Epoch 34: loss=0.0008436585776507854, gradient: -3.779190592467785e-06, w=3.1420631408691406\n",
      "Epoch 35: loss=0.0008436585776507854, gradient: -3.779190592467785e-06, w=3.1420631408691406\n",
      "Epoch 36: loss=0.0008436585776507854, gradient: -3.779190592467785e-06, w=3.1420631408691406\n",
      "Epoch 37: loss=0.0008436585776507854, gradient: -3.779190592467785e-06, w=3.1420631408691406\n",
      "Epoch 38: loss=0.0008436585776507854, gradient: -3.779190592467785e-06, w=3.1420631408691406\n",
      "Epoch 39: loss=0.0008436585776507854, gradient: -3.779190592467785e-06, w=3.1420631408691406\n",
      "Epoch 40: loss=0.0008436585776507854, gradient: -3.779190592467785e-06, w=3.1420631408691406\n",
      "Epoch 41: loss=0.0008436585776507854, gradient: -3.779190592467785e-06, w=3.1420631408691406\n",
      "Epoch 42: loss=0.0008436585776507854, gradient: -3.779190592467785e-06, w=3.1420631408691406\n",
      "Epoch 43: loss=0.0008436585776507854, gradient: -3.779190592467785e-06, w=3.1420631408691406\n",
      "Epoch 44: loss=0.0008436585776507854, gradient: -3.779190592467785e-06, w=3.1420631408691406\n",
      "Epoch 45: loss=0.0008436585776507854, gradient: -3.779190592467785e-06, w=3.1420631408691406\n",
      "Epoch 46: loss=0.0008436585776507854, gradient: -3.779190592467785e-06, w=3.1420631408691406\n",
      "Epoch 47: loss=0.0008436585776507854, gradient: -3.779190592467785e-06, w=3.1420631408691406\n",
      "Epoch 48: loss=0.0008436585776507854, gradient: -3.779190592467785e-06, w=3.1420631408691406\n",
      "Epoch 49: loss=0.0008436585776507854, gradient: -3.779190592467785e-06, w=3.1420631408691406\n",
      "Epoch 50: loss=0.0008436585776507854, gradient: -3.779190592467785e-06, w=3.1420631408691406\n",
      "Epoch 51: loss=0.0008436585776507854, gradient: -3.779190592467785e-06, w=3.1420631408691406\n",
      "Epoch 52: loss=0.0008436585776507854, gradient: -3.779190592467785e-06, w=3.1420631408691406\n",
      "Epoch 53: loss=0.0008436585776507854, gradient: -3.779190592467785e-06, w=3.1420631408691406\n",
      "Epoch 54: loss=0.0008436585776507854, gradient: -3.779190592467785e-06, w=3.1420631408691406\n",
      "Epoch 55: loss=0.0008436585776507854, gradient: -3.779190592467785e-06, w=3.1420631408691406\n",
      "Epoch 56: loss=0.0008436585776507854, gradient: -3.779190592467785e-06, w=3.1420631408691406\n",
      "Epoch 57: loss=0.0008436585776507854, gradient: -3.779190592467785e-06, w=3.1420631408691406\n",
      "Epoch 58: loss=0.0008436585776507854, gradient: -3.779190592467785e-06, w=3.1420631408691406\n",
      "Epoch 59: loss=0.0008436585776507854, gradient: -3.779190592467785e-06, w=3.1420631408691406\n",
      "Epoch 60: loss=0.0008436585776507854, gradient: -3.779190592467785e-06, w=3.1420631408691406\n",
      "Epoch 61: loss=0.0008436585776507854, gradient: -3.779190592467785e-06, w=3.1420631408691406\n",
      "Epoch 62: loss=0.0008436585776507854, gradient: -3.779190592467785e-06, w=3.1420631408691406\n",
      "Epoch 63: loss=0.0008436585776507854, gradient: -3.779190592467785e-06, w=3.1420631408691406\n",
      "Epoch 64: loss=0.0008436585776507854, gradient: -3.779190592467785e-06, w=3.1420631408691406\n",
      "Epoch 65: loss=0.0008436585776507854, gradient: -3.779190592467785e-06, w=3.1420631408691406\n",
      "Epoch 66: loss=0.0008436585776507854, gradient: -3.779190592467785e-06, w=3.1420631408691406\n",
      "Epoch 67: loss=0.0008436585776507854, gradient: -3.779190592467785e-06, w=3.1420631408691406\n",
      "Epoch 68: loss=0.0008436585776507854, gradient: -3.779190592467785e-06, w=3.1420631408691406\n",
      "Epoch 69: loss=0.0008436585776507854, gradient: -3.779190592467785e-06, w=3.1420631408691406\n",
      "Epoch 70: loss=0.0008436585776507854, gradient: -3.779190592467785e-06, w=3.1420631408691406\n",
      "Epoch 71: loss=0.0008436585776507854, gradient: -3.779190592467785e-06, w=3.1420631408691406\n",
      "Epoch 72: loss=0.0008436585776507854, gradient: -3.779190592467785e-06, w=3.1420631408691406\n",
      "Epoch 73: loss=0.0008436585776507854, gradient: -3.779190592467785e-06, w=3.1420631408691406\n",
      "Epoch 74: loss=0.0008436585776507854, gradient: -3.779190592467785e-06, w=3.1420631408691406\n",
      "Epoch 75: loss=0.0008436585776507854, gradient: -3.779190592467785e-06, w=3.1420631408691406\n",
      "Epoch 76: loss=0.0008436585776507854, gradient: -3.779190592467785e-06, w=3.1420631408691406\n",
      "Epoch 77: loss=0.0008436585776507854, gradient: -3.779190592467785e-06, w=3.1420631408691406\n",
      "Epoch 78: loss=0.0008436585776507854, gradient: -3.779190592467785e-06, w=3.1420631408691406\n",
      "Epoch 79: loss=0.0008436585776507854, gradient: -3.779190592467785e-06, w=3.1420631408691406\n",
      "Epoch 80: loss=0.0008436585776507854, gradient: -3.779190592467785e-06, w=3.1420631408691406\n",
      "Epoch 81: loss=0.0008436585776507854, gradient: -3.779190592467785e-06, w=3.1420631408691406\n",
      "Epoch 82: loss=0.0008436585776507854, gradient: -3.779190592467785e-06, w=3.1420631408691406\n",
      "Epoch 83: loss=0.0008436585776507854, gradient: -3.779190592467785e-06, w=3.1420631408691406\n",
      "Epoch 84: loss=0.0008436585776507854, gradient: -3.779190592467785e-06, w=3.1420631408691406\n",
      "Epoch 85: loss=0.0008436585776507854, gradient: -3.779190592467785e-06, w=3.1420631408691406\n",
      "Epoch 86: loss=0.0008436585776507854, gradient: -3.779190592467785e-06, w=3.1420631408691406\n",
      "Epoch 87: loss=0.0008436585776507854, gradient: -3.779190592467785e-06, w=3.1420631408691406\n",
      "Epoch 88: loss=0.0008436585776507854, gradient: -3.779190592467785e-06, w=3.1420631408691406\n",
      "Epoch 89: loss=0.0008436585776507854, gradient: -3.779190592467785e-06, w=3.1420631408691406\n",
      "Epoch 90: loss=0.0008436585776507854, gradient: -3.779190592467785e-06, w=3.1420631408691406\n",
      "Epoch 91: loss=0.0008436585776507854, gradient: -3.779190592467785e-06, w=3.1420631408691406\n",
      "Epoch 92: loss=0.0008436585776507854, gradient: -3.779190592467785e-06, w=3.1420631408691406\n",
      "Epoch 93: loss=0.0008436585776507854, gradient: -3.779190592467785e-06, w=3.1420631408691406\n",
      "Epoch 94: loss=0.0008436585776507854, gradient: -3.779190592467785e-06, w=3.1420631408691406\n",
      "Epoch 95: loss=0.0008436585776507854, gradient: -3.779190592467785e-06, w=3.1420631408691406\n",
      "Epoch 96: loss=0.0008436585776507854, gradient: -3.779190592467785e-06, w=3.1420631408691406\n",
      "Epoch 97: loss=0.0008436585776507854, gradient: -3.779190592467785e-06, w=3.1420631408691406\n",
      "Epoch 98: loss=0.0008436585776507854, gradient: -3.779190592467785e-06, w=3.1420631408691406\n",
      "Epoch 99: loss=0.0008436585776507854, gradient: -3.779190592467785e-06, w=3.1420631408691406\n",
      "Epoch 100: loss=0.0008436585776507854, gradient: -3.779190592467785e-06, w=3.1420631408691406\n"
     ]
    }
   ],
   "source": [
    "def training_model(diameters,perimeters,param,epochs,learning_rate):\n",
    "    x = torch.tensor(diameters)\n",
    "    y = torch.tensor(perimeters)\n",
    "\n",
    "    w = torch.tensor(param, requires_grad=True)\n",
    "\n",
    "    def forward(x):\n",
    "        return x * w\n",
    "\n",
    "    loss_fn = torch.nn.MSELoss()\n",
    "\n",
    "    for epoch in range(epochs):\n",
    "        y_pred = forward(x)\n",
    "        loss = loss_fn(y_pred,y)\n",
    "        loss.backward()\n",
    "        w.data = w.data - learning_rate * w.grad\n",
    "        print(f\"Epoch {epoch+1}: loss={loss.item()}, gradient: {w.grad}, w={w.item()}\")\n",
    "        w.grad.zero_()\n",
    "    \n",
    "        \n",
    "\n",
    "training_model(diameters,perimeters,0.0,100,0.01)"
   ]
  }
 ],
 "metadata": {
  "kernelspec": {
   "display_name": "base",
   "language": "python",
   "name": "python3"
  },
  "language_info": {
   "codemirror_mode": {
    "name": "ipython",
    "version": 3
   },
   "file_extension": ".py",
   "mimetype": "text/x-python",
   "name": "python",
   "nbconvert_exporter": "python",
   "pygments_lexer": "ipython3",
   "version": "3.13.2"
  }
 },
 "nbformat": 4,
 "nbformat_minor": 5
}
