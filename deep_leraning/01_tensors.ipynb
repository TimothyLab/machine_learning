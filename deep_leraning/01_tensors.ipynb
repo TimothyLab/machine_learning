{
 "cells": [
  {
   "cell_type": "markdown",
   "id": "fe84b0da",
   "metadata": {},
   "source": [
    "# Tensors\n",
    "\n",
    "Les tensors sont l'une des structure de données en pytorch. Ce sont des tableaux numérique qui peuvent être utilisé par CPU ou GPU."
   ]
  },
  {
   "cell_type": "code",
   "execution_count": 2,
   "id": "230529cf",
   "metadata": {},
   "outputs": [],
   "source": [
    "import torch"
   ]
  },
  {
   "cell_type": "code",
   "execution_count": null,
   "id": "2e963dbb",
   "metadata": {},
   "outputs": [
    {
     "name": "stdout",
     "output_type": "stream",
     "text": [
      "tensor([ 1., -4.,  9., 16.])\n"
     ]
    }
   ],
   "source": [
    "list_a = [1.0, -4.0,9.0,16.0]\n",
    "tensor_a = torch.tensor(list_a)\n",
    "print(tensor_a)"
   ]
  },
  {
   "cell_type": "markdown",
   "id": "ec5b0962",
   "metadata": {},
   "source": [
    "Les calculs sur les tensors sont vectorisés. Les opérations sont donc effectué sur tout le tensor en une fois. Par exemple, ajouter une valeur à un tensors l'ajoute à chacun des éléments du tensors."
   ]
  },
  {
   "cell_type": "code",
   "execution_count": 7,
   "id": "8ff5e868",
   "metadata": {},
   "outputs": [
    {
     "name": "stdout",
     "output_type": "stream",
     "text": [
      "tensor([ 3., -2., 11., 18.])\n"
     ]
    }
   ],
   "source": [
    "print(tensor_a + 2)"
   ]
  },
  {
   "cell_type": "markdown",
   "id": "df439b0a",
   "metadata": {},
   "source": [
    "Pytorch fournit plusieurs fonctions de calcul. Elles peuvent être appelé sous forme de fonction ou de méthode."
   ]
  },
  {
   "cell_type": "code",
   "execution_count": 8,
   "id": "d3da13f7",
   "metadata": {},
   "outputs": [
    {
     "name": "stdout",
     "output_type": "stream",
     "text": [
      "tensor(5.5000)\n",
      "tensor(5.5000)\n"
     ]
    }
   ],
   "source": [
    "print(tensor_a.mean())\n",
    "print(torch.mean(tensor_a))"
   ]
  },
  {
   "cell_type": "markdown",
   "id": "688e2447",
   "metadata": {},
   "source": [
    "**Exercice 1**\n",
    "\n",
    "Soit la température en Fahrenheit pouvent être convertit en Celsius avec la formule suivant : \n",
    "\n",
    "$$T_{\\textrm{Celsius}} = (T_{\\textrm{Fahrenheit}} - 32) \\times \\frac{5}{9}$$\n",
    "\n",
    "Crée une fonction `fahrenheit_to_celsius` qui convertit un tensor de température en Fahrenheit en Celsius. "
   ]
  },
  {
   "cell_type": "code",
   "execution_count": 9,
   "id": "dcc4837f",
   "metadata": {},
   "outputs": [
    {
     "name": "stdout",
     "output_type": "stream",
     "text": [
      "tensor([-17.7778,   0.0000,  10.0000,  37.7778])\n"
     ]
    }
   ],
   "source": [
    "def fahrenheit_to_celsius(tensor):\n",
    "    return (tensor - 32.0) * 5.0 / 9.0\n",
    "\n",
    "temp_fahrenheit = torch.tensor([0,32,50,100])\n",
    "print(fahrenheit_to_celsius(temp_fahrenheit))"
   ]
  },
  {
   "cell_type": "markdown",
   "id": "0c80c034",
   "metadata": {},
   "source": [
    "# Tensors gradients"
   ]
  },
  {
   "cell_type": "markdown",
   "id": "4f0dbd6e",
   "metadata": {},
   "source": [
    "Quand on crée un tensor, si on spécifie l'arguement `requires_grad =True` alors chaque objet créé en appliquant une opération de torch sur le tensors devriendra également un tensor qui gardera en mémoire les fonctions appliqué. "
   ]
  },
  {
   "cell_type": "code",
   "execution_count": null,
   "id": "005a3f17",
   "metadata": {},
   "outputs": [
    {
     "name": "stdout",
     "output_type": "stream",
     "text": [
      "tensor(9.6100, grad_fn=<PowBackward0>)\n",
      "tensor(6.2000)\n"
     ]
    }
   ],
   "source": [
    "w1 = torch.tensor(1.0 , requires_grad=True)\n",
    "w2 = w1 + 2.0\n",
    "w3 = torch.square(w2)\n",
    "print(w3)\n",
    "w3.backward()  # calcule la dérivée de w3 par rapport à w1\n",
    "print(w1.grad)  # montre que w1 a une fonction de gradient associée"
   ]
  },
  {
   "cell_type": "markdown",
   "id": "f6b3f274",
   "metadata": {},
   "source": [
    "Un gradient sert à mesurer comment une quantité (souvent la perte) change quand on modifie les paramètres. Le gradient déterminé par la méthode `.backward()` utilise la règle de la chaîne pour calculer la dérivé. \n",
    "\n",
    "Principe : si y = f(g(x)), alors la dérivée dy/dx se calcule en multipliant la dérivée de f par rapport à g par la dérivée de g par rapport à x : dy/dx = f'(g(x)) * g'(x).\n",
    "\n",
    "\n",
    "Ici on a : \n",
    "    $$w1 = 1$$\n",
    "    $$w2 = w1 + 2 = 3$$\n",
    "    $$w3 = w2**2 = 9$$\n",
    "\n",
    "On a alors:\n",
    "    $$dw3/dw1 = f'(g(w1)) * g'(w1)$$\n",
    "            $$= f'(w2**2) * g'(w1)$$\n",
    "            $$= 2 * w2 * 1$$\n",
    "            $$= 2 * 3$$\n",
    "            $$= 6$$\n",
    "\n",
    "On obtient ici la pente instantannée en w1 = 1 de la dérivé. Cependant la dérivé donne une approximation linéaire locale.\n",
    "Pour un petit pas Δw1, la variation de w3 est approximée par Δw3 ≈ (∂w3/∂w1) · Δw1. Cette approximation est bonne si Δw1 est petit.\n",
    "\n",
    "Ce gradient va nous servir pour la descente de gradient appliqué à la fonction de perte (erreur du modèle) ce qui nous permettra de rendre les prédiction plus proches des vraies valeurs. (Attention on parle ici de la pente local et non global de la fonction donc pour des fonctions convexes  c'est l'idéal mais pour les fonctions non convexes on peut converger vers un minimum local qui n'est pas forcément le meilleur global)."
   ]
  },
  {
   "cell_type": "markdown",
   "id": "2946028a",
   "metadata": {},
   "source": [
    "**Exercice 2**\n",
    "\n",
    "En utilisant les tensors :\n",
    "\n",
    "-   calculer le gradient de la fonction $1 /\\log{x}$ quand $x$ = 10. (Sauriez-vous déterminer la tendance de la fonction pour x =10 ? )\n",
    "-   calculer le gradient de la fonction `farhenheit _to_celsius` quand $t$ = 0\n",
    "\n"
   ]
  },
  {
   "cell_type": "code",
   "execution_count": 13,
   "id": "6086333d",
   "metadata": {},
   "outputs": [
    {
     "name": "stdout",
     "output_type": "stream",
     "text": [
      "tensor(-0.0189)\n",
      "tensor(0.5556)\n"
     ]
    }
   ],
   "source": [
    "# premier point d'exemple\n",
    "a = torch.tensor(10.0, requires_grad=True)\n",
    "a_1 = 1 / torch.log(a) \n",
    "\n",
    "a_1.backward()\n",
    "print(a.grad)\n",
    "\n",
    "# second point d'exemple\n",
    "b = torch.tensor(0.0, requires_grad=True)\n",
    "b_1 = fahrenheit_to_celsius(b)\n",
    "b_1.backward()\n",
    "print(b.grad)\n",
    "\n",
    "\n"
   ]
  },
  {
   "cell_type": "markdown",
   "id": "06308bd9",
   "metadata": {},
   "source": [
    "Quand le gradient est calculé sur une fonction avec un seul argument, la valeur correspond à la dérivé de la fonction pour un paramètre donnée.\n",
    "\n",
    "Lorsque la fonction prend plusieurs argument en entrée, chaque valeur du gradient est la dérivée partiel de la fonction pour les paramètres données.\n",
    "\n",
    "Pour illustrer cela, dans l’exemple suivant :\n",
    "\n",
    "-   x1.grad est la dérivée partielle de x1/x2 par rapport à x1 lorsque x1 = 3 et x2 = 5.\n",
    "-   x2.grad est la dérivée partielle de x1/x2 par rapport à x2 lorsque x1 = 3 et x2 = 5.\n",
    "-   (x1.grad, x2.grad) est le gradient de x1/x2 au point (x1=3, x2=5).\n"
   ]
  },
  {
   "cell_type": "code",
   "execution_count": 14,
   "id": "353da22e",
   "metadata": {},
   "outputs": [
    {
     "name": "stdout",
     "output_type": "stream",
     "text": [
      "tensor(0.2000) tensor(-0.1200)\n"
     ]
    }
   ],
   "source": [
    "x1 = torch.tensor(3.0, requires_grad=True)\n",
    "x2 = torch.tensor(5.0, requires_grad=True)\n",
    "res = x1 / x2\n",
    "res.backward()\n",
    "print(x1.grad, x2.grad)"
   ]
  },
  {
   "cell_type": "markdown",
   "id": "e9b1fe5c",
   "metadata": {},
   "source": []
  }
 ],
 "metadata": {
  "kernelspec": {
   "display_name": "base",
   "language": "python",
   "name": "python3"
  },
  "language_info": {
   "codemirror_mode": {
    "name": "ipython",
    "version": 3
   },
   "file_extension": ".py",
   "mimetype": "text/x-python",
   "name": "python",
   "nbconvert_exporter": "python",
   "pygments_lexer": "ipython3",
   "version": "3.13.2"
  }
 },
 "nbformat": 4,
 "nbformat_minor": 5
}
